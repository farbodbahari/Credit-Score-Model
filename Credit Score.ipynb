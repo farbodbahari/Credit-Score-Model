{
 "cells": [
  {
   "cell_type": "markdown",
   "metadata": {},
   "source": [
    "### CreditScore Data Set "
   ]
  },
  {
   "cell_type": "markdown",
   "metadata": {},
   "source": [
    "###### Models will be fitted\n",
    "1. Logistic Regression\n",
    "2. SVM\n",
    "3. Random Forest\n",
    "4. ElasticNet\n",
    "5. Ensumble These 4 Models"
   ]
  },
  {
   "cell_type": "code",
   "execution_count": 1,
   "metadata": {},
   "outputs": [],
   "source": [
    "#Import Libraries\n",
    "import csv\n",
    "import numpy as np\n",
    "import pandas as pd\n",
    "\n",
    "### Import Descision Tree Classifier\n",
    "from sklearn.tree import DecisionTreeClassifier\n",
    "from sklearn.linear_model import ElasticNet\n",
    "from sklearn.linear_model import LogisticRegression\n",
    "from sklearn.svm import SVC\n",
    "from sklearn.neighbors import KNeighborsClassifier\n",
    "from sklearn.ensemble import RandomForestClassifier\n",
    "from sklearn.ensemble import GradientBoostingClassifier\n",
    "from sklearn.preprocessing import scale\n",
    "from sklearn.decomposition import PCA\n",
    "\n",
    "\n",
    "from sklearn.model_selection import train_test_split\n",
    "from sklearn.model_selection import cross_val_score\n",
    "from sklearn.model_selection import GridSearchCV\n",
    "from sklearn.metrics import roc_auc_score\n",
    "from sklearn.pipeline import Pipeline\n",
    "from sklearn.metrics import accuracy_score\n",
    "from sklearn.metrics import classification_report\n",
    "from sklearn.metrics import confusion_matrix\n",
    "\n",
    "# Perform the necessary imports\n",
    "import matplotlib.pyplot as plt\n",
    "## for pearsonr correlation just feed x and y to this\n",
    "from scipy.stats import pearsonr\n",
    "pd.options.display.max_columns=60\n",
    "#Change the Number Fromat of DATA frame\n",
    "pd.options.display.float_format = '{:,.4f}'.format"
   ]
  },
  {
   "cell_type": "code",
   "execution_count": 2,
   "metadata": {
    "scrolled": true
   },
   "outputs": [
    {
     "name": "stdout",
     "output_type": "stream",
     "text": [
      "No Missing Values in the dataset\n"
     ]
    }
   ],
   "source": [
    "### Load the Data\n",
    "seed=42\n",
    "path=\"C:\\\\Users\\\\fbaharkoush\\\\IE 598 Machine Learning\\\\Homework\\\\Group Project\\\\\"\n",
    "df_credit=pd.read_csv(path+\"MLF_GP1_CreditScore.csv\")\n",
    "if df_credit.isnull().sum().sum()==0:\n",
    "    print(\"No Missing Values in the dataset\")"
   ]
  },
  {
   "cell_type": "code",
   "execution_count": 3,
   "metadata": {
    "scrolled": true
   },
   "outputs": [],
   "source": [
    "### Get the dummy variables of Rating and merge it with the dataset\n",
    "df_credit_dummies=pd.merge(df_credit.reset_index(),\n",
    "         pd.get_dummies(df_credit[\"Rating\"]).reset_index(),\n",
    "        left_on=\"index\",right_on=\"index\",how=\"left\").drop(\"index\",axis=1)"
   ]
  },
  {
   "cell_type": "code",
   "execution_count": 4,
   "metadata": {},
   "outputs": [
    {
     "data": {
      "text/html": [
       "<div>\n",
       "<style scoped>\n",
       "    .dataframe tbody tr th:only-of-type {\n",
       "        vertical-align: middle;\n",
       "    }\n",
       "\n",
       "    .dataframe tbody tr th {\n",
       "        vertical-align: top;\n",
       "    }\n",
       "\n",
       "    .dataframe thead th {\n",
       "        text-align: right;\n",
       "    }\n",
       "</style>\n",
       "<table border=\"1\" class=\"dataframe\">\n",
       "  <thead>\n",
       "    <tr style=\"text-align: right;\">\n",
       "      <th></th>\n",
       "      <th>Sales/Revenues</th>\n",
       "      <th>Gross Margin</th>\n",
       "      <th>EBITDA</th>\n",
       "      <th>EBITDA Margin</th>\n",
       "      <th>Net Income Before Extras</th>\n",
       "      <th>Total Debt</th>\n",
       "      <th>Net Debt</th>\n",
       "      <th>LT Debt</th>\n",
       "      <th>ST Debt</th>\n",
       "      <th>Cash</th>\n",
       "      <th>Free Cash Flow</th>\n",
       "      <th>Total Debt/EBITDA</th>\n",
       "      <th>Net Debt/EBITDA</th>\n",
       "      <th>Total MV</th>\n",
       "      <th>Total Debt/MV</th>\n",
       "      <th>Net Debt/MV</th>\n",
       "      <th>CFO/Debt</th>\n",
       "      <th>CFO</th>\n",
       "      <th>Interest Coverage</th>\n",
       "      <th>Total Liquidity</th>\n",
       "      <th>Current Liquidity</th>\n",
       "      <th>Current Liabilities</th>\n",
       "      <th>EPS Before Extras</th>\n",
       "      <th>PE</th>\n",
       "      <th>ROA</th>\n",
       "      <th>ROE</th>\n",
       "      <th>InvGrd</th>\n",
       "      <th>Rating</th>\n",
       "      <th>A1</th>\n",
       "      <th>A2</th>\n",
       "      <th>A3</th>\n",
       "      <th>Aa2</th>\n",
       "      <th>Aa3</th>\n",
       "      <th>Aaa</th>\n",
       "      <th>B1</th>\n",
       "      <th>B2</th>\n",
       "      <th>B3</th>\n",
       "      <th>Ba1</th>\n",
       "      <th>Ba2</th>\n",
       "      <th>Ba3</th>\n",
       "      <th>Baa1</th>\n",
       "      <th>Baa2</th>\n",
       "      <th>Baa3</th>\n",
       "      <th>Caa1</th>\n",
       "    </tr>\n",
       "  </thead>\n",
       "  <tbody>\n",
       "    <tr>\n",
       "      <th>0</th>\n",
       "      <td>-0.0055</td>\n",
       "      <td>0.0308</td>\n",
       "      <td>0.0189</td>\n",
       "      <td>0.0245</td>\n",
       "      <td>0.1468</td>\n",
       "      <td>-0.0297</td>\n",
       "      <td>-0.0193</td>\n",
       "      <td>-0.0426</td>\n",
       "      <td>0.0499</td>\n",
       "      <td>-0.1337</td>\n",
       "      <td>0.3530</td>\n",
       "      <td>-0.0477</td>\n",
       "      <td>-0.0375</td>\n",
       "      <td>0.2636</td>\n",
       "      <td>-0.2321</td>\n",
       "      <td>-0.2239</td>\n",
       "      <td>0.1012</td>\n",
       "      <td>0.0685</td>\n",
       "      <td>0.1367</td>\n",
       "      <td>0.3921</td>\n",
       "      <td>-0.1849</td>\n",
       "      <td>0.0628</td>\n",
       "      <td>0.1483</td>\n",
       "      <td>0.1004</td>\n",
       "      <td>0.1633</td>\n",
       "      <td>0.1025</td>\n",
       "      <td>1</td>\n",
       "      <td>A1</td>\n",
       "      <td>1</td>\n",
       "      <td>0</td>\n",
       "      <td>0</td>\n",
       "      <td>0</td>\n",
       "      <td>0</td>\n",
       "      <td>0</td>\n",
       "      <td>0</td>\n",
       "      <td>0</td>\n",
       "      <td>0</td>\n",
       "      <td>0</td>\n",
       "      <td>0</td>\n",
       "      <td>0</td>\n",
       "      <td>0</td>\n",
       "      <td>0</td>\n",
       "      <td>0</td>\n",
       "      <td>0</td>\n",
       "    </tr>\n",
       "    <tr>\n",
       "      <th>1</th>\n",
       "      <td>-0.0055</td>\n",
       "      <td>0.0308</td>\n",
       "      <td>0.0887</td>\n",
       "      <td>0.0947</td>\n",
       "      <td>0.1468</td>\n",
       "      <td>-0.0297</td>\n",
       "      <td>-0.0193</td>\n",
       "      <td>-0.0426</td>\n",
       "      <td>0.0499</td>\n",
       "      <td>-0.1337</td>\n",
       "      <td>0.3530</td>\n",
       "      <td>-0.1088</td>\n",
       "      <td>-0.0992</td>\n",
       "      <td>0.0454</td>\n",
       "      <td>-0.0719</td>\n",
       "      <td>-0.0619</td>\n",
       "      <td>0.1012</td>\n",
       "      <td>0.0685</td>\n",
       "      <td>0.2147</td>\n",
       "      <td>0.3921</td>\n",
       "      <td>-0.1849</td>\n",
       "      <td>0.0628</td>\n",
       "      <td>0.1483</td>\n",
       "      <td>-0.0896</td>\n",
       "      <td>0.1633</td>\n",
       "      <td>0.1025</td>\n",
       "      <td>1</td>\n",
       "      <td>A1</td>\n",
       "      <td>1</td>\n",
       "      <td>0</td>\n",
       "      <td>0</td>\n",
       "      <td>0</td>\n",
       "      <td>0</td>\n",
       "      <td>0</td>\n",
       "      <td>0</td>\n",
       "      <td>0</td>\n",
       "      <td>0</td>\n",
       "      <td>0</td>\n",
       "      <td>0</td>\n",
       "      <td>0</td>\n",
       "      <td>0</td>\n",
       "      <td>0</td>\n",
       "      <td>0</td>\n",
       "      <td>0</td>\n",
       "    </tr>\n",
       "  </tbody>\n",
       "</table>\n",
       "</div>"
      ],
      "text/plain": [
       "   Sales/Revenues  Gross Margin  EBITDA  EBITDA Margin  \\\n",
       "0         -0.0055        0.0308  0.0189         0.0245   \n",
       "1         -0.0055        0.0308  0.0887         0.0947   \n",
       "\n",
       "   Net Income Before Extras  Total Debt  Net Debt  LT Debt  ST Debt    Cash  \\\n",
       "0                    0.1468     -0.0297   -0.0193  -0.0426   0.0499 -0.1337   \n",
       "1                    0.1468     -0.0297   -0.0193  -0.0426   0.0499 -0.1337   \n",
       "\n",
       "   Free Cash Flow  Total Debt/EBITDA  Net Debt/EBITDA  Total MV  \\\n",
       "0          0.3530            -0.0477          -0.0375    0.2636   \n",
       "1          0.3530            -0.1088          -0.0992    0.0454   \n",
       "\n",
       "   Total Debt/MV  Net Debt/MV  CFO/Debt    CFO  Interest Coverage  \\\n",
       "0        -0.2321      -0.2239    0.1012 0.0685             0.1367   \n",
       "1        -0.0719      -0.0619    0.1012 0.0685             0.2147   \n",
       "\n",
       "   Total Liquidity  Current Liquidity  Current Liabilities  EPS Before Extras  \\\n",
       "0           0.3921            -0.1849               0.0628             0.1483   \n",
       "1           0.3921            -0.1849               0.0628             0.1483   \n",
       "\n",
       "       PE    ROA    ROE  InvGrd Rating  A1  A2  A3  Aa2  Aa3  Aaa  B1  B2  B3  \\\n",
       "0  0.1004 0.1633 0.1025       1     A1   1   0   0    0    0    0   0   0   0   \n",
       "1 -0.0896 0.1633 0.1025       1     A1   1   0   0    0    0    0   0   0   0   \n",
       "\n",
       "   Ba1  Ba2  Ba3  Baa1  Baa2  Baa3  Caa1  \n",
       "0    0    0    0     0     0     0     0  \n",
       "1    0    0    0     0     0     0     0  "
      ]
     },
     "execution_count": 4,
     "metadata": {},
     "output_type": "execute_result"
    }
   ],
   "source": [
    "df_credit_dummies.head(2)"
   ]
  },
  {
   "cell_type": "code",
   "execution_count": 5,
   "metadata": {
    "scrolled": true
   },
   "outputs": [],
   "source": [
    "### X and y\n",
    "X=scale(df_credit_dummies.drop(['InvGrd', 'Rating'],axis=1).values)\n",
    "y=df_credit_dummies[\"InvGrd\"].values\n",
    "### Train and Test\n",
    "X_train,X_test,y_train,y_test=train_test_split(X,y,test_size=0.25,random_state=seed)"
   ]
  },
  {
   "cell_type": "markdown",
   "metadata": {},
   "source": [
    "###  PCA with Dummy Variables"
   ]
  },
  {
   "cell_type": "code",
   "execution_count": 6,
   "metadata": {},
   "outputs": [
    {
     "data": {
      "text/plain": [
       "array([[-1.15248335e-01,  3.04056439e-02, -5.73625149e-02, ...,\n",
       "        -1.98683295e-03,  1.21401142e-03, -2.07682906e-15],\n",
       "       [-1.06970414e-01,  4.46568712e-02, -1.00024599e-02, ...,\n",
       "        -2.10264952e-03,  4.68145873e-05, -1.09291666e-15],\n",
       "       [-1.00726759e-01,  4.49912941e-02,  2.03696419e-02, ...,\n",
       "        -7.42464244e-04,  4.08196549e-04,  4.80258635e-15],\n",
       "       ...,\n",
       "       [-1.64284497e-01, -6.88637238e-01, -5.71696306e-01, ...,\n",
       "        -1.00729677e-03,  1.42029979e-03,  1.05203267e-15],\n",
       "       [-1.02581361e-01, -7.12270022e-01, -6.22364252e-01, ...,\n",
       "         7.70699272e-04, -1.54993582e-03,  4.80073863e-16],\n",
       "       [-2.14992750e-01, -6.88032028e-01, -6.28300064e-01, ...,\n",
       "         2.69455000e-03, -8.46058966e-04,  9.73895010e-17]])"
      ]
     },
     "execution_count": 6,
     "metadata": {},
     "output_type": "execute_result"
    }
   ],
   "source": [
    "# Create PCA instance: model\n",
    "pca_model = PCA()\n",
    "### Fit the Features value to PCA\n",
    "pca_model.fit_transform(X)"
   ]
  },
  {
   "cell_type": "code",
   "execution_count": 7,
   "metadata": {},
   "outputs": [],
   "source": [
    "X_features=list(df_credit_dummies.drop(['InvGrd', 'Rating'],axis=1).columns)"
   ]
  },
  {
   "cell_type": "code",
   "execution_count": 8,
   "metadata": {
    "scrolled": true
   },
   "outputs": [],
   "source": [
    "df_pca_exp_var=pd.DataFrame({\"Features\":X_features,\n",
    "              \"PCA_Exp_Var\":pca_model.explained_variance_ratio_}).sort_values(\"PCA_Exp_Var\",ascending=False)\n",
    "df_pca_exp_var[\"Cummulative Exp Var\"]=df_pca_exp_var[\"PCA_Exp_Var\"].cumsum()"
   ]
  },
  {
   "cell_type": "markdown",
   "metadata": {},
   "source": [
    "##### PCA Report With Dummy Variables"
   ]
  },
  {
   "cell_type": "code",
   "execution_count": 9,
   "metadata": {
    "scrolled": true
   },
   "outputs": [
    {
     "data": {
      "text/html": [
       "<div>\n",
       "<style scoped>\n",
       "    .dataframe tbody tr th:only-of-type {\n",
       "        vertical-align: middle;\n",
       "    }\n",
       "\n",
       "    .dataframe tbody tr th {\n",
       "        vertical-align: top;\n",
       "    }\n",
       "\n",
       "    .dataframe thead th {\n",
       "        text-align: right;\n",
       "    }\n",
       "</style>\n",
       "<table border=\"1\" class=\"dataframe\">\n",
       "  <thead>\n",
       "    <tr style=\"text-align: right;\">\n",
       "      <th></th>\n",
       "      <th>Features</th>\n",
       "      <th>PCA_Exp_Var</th>\n",
       "      <th>Cummulative Exp Var</th>\n",
       "    </tr>\n",
       "  </thead>\n",
       "  <tbody>\n",
       "    <tr>\n",
       "      <th>0</th>\n",
       "      <td>Sales/Revenues</td>\n",
       "      <td>0.0936</td>\n",
       "      <td>0.0936</td>\n",
       "    </tr>\n",
       "    <tr>\n",
       "      <th>1</th>\n",
       "      <td>Gross Margin</td>\n",
       "      <td>0.0737</td>\n",
       "      <td>0.1673</td>\n",
       "    </tr>\n",
       "    <tr>\n",
       "      <th>2</th>\n",
       "      <td>EBITDA</td>\n",
       "      <td>0.0707</td>\n",
       "      <td>0.2381</td>\n",
       "    </tr>\n",
       "    <tr>\n",
       "      <th>3</th>\n",
       "      <td>EBITDA Margin</td>\n",
       "      <td>0.0517</td>\n",
       "      <td>0.2897</td>\n",
       "    </tr>\n",
       "    <tr>\n",
       "      <th>4</th>\n",
       "      <td>Net Income Before Extras</td>\n",
       "      <td>0.0495</td>\n",
       "      <td>0.3392</td>\n",
       "    </tr>\n",
       "    <tr>\n",
       "      <th>5</th>\n",
       "      <td>Total Debt</td>\n",
       "      <td>0.0481</td>\n",
       "      <td>0.3873</td>\n",
       "    </tr>\n",
       "    <tr>\n",
       "      <th>6</th>\n",
       "      <td>Net Debt</td>\n",
       "      <td>0.0372</td>\n",
       "      <td>0.4245</td>\n",
       "    </tr>\n",
       "    <tr>\n",
       "      <th>7</th>\n",
       "      <td>LT Debt</td>\n",
       "      <td>0.0298</td>\n",
       "      <td>0.4543</td>\n",
       "    </tr>\n",
       "    <tr>\n",
       "      <th>8</th>\n",
       "      <td>ST Debt</td>\n",
       "      <td>0.0288</td>\n",
       "      <td>0.4831</td>\n",
       "    </tr>\n",
       "    <tr>\n",
       "      <th>9</th>\n",
       "      <td>Cash</td>\n",
       "      <td>0.0282</td>\n",
       "      <td>0.5113</td>\n",
       "    </tr>\n",
       "    <tr>\n",
       "      <th>10</th>\n",
       "      <td>Free Cash Flow</td>\n",
       "      <td>0.0272</td>\n",
       "      <td>0.5385</td>\n",
       "    </tr>\n",
       "    <tr>\n",
       "      <th>11</th>\n",
       "      <td>Total Debt/EBITDA</td>\n",
       "      <td>0.0268</td>\n",
       "      <td>0.5653</td>\n",
       "    </tr>\n",
       "    <tr>\n",
       "      <th>12</th>\n",
       "      <td>Net Debt/EBITDA</td>\n",
       "      <td>0.0265</td>\n",
       "      <td>0.5918</td>\n",
       "    </tr>\n",
       "    <tr>\n",
       "      <th>13</th>\n",
       "      <td>Total MV</td>\n",
       "      <td>0.0262</td>\n",
       "      <td>0.6180</td>\n",
       "    </tr>\n",
       "    <tr>\n",
       "      <th>14</th>\n",
       "      <td>Total Debt/MV</td>\n",
       "      <td>0.0259</td>\n",
       "      <td>0.6440</td>\n",
       "    </tr>\n",
       "    <tr>\n",
       "      <th>15</th>\n",
       "      <td>Net Debt/MV</td>\n",
       "      <td>0.0254</td>\n",
       "      <td>0.6694</td>\n",
       "    </tr>\n",
       "    <tr>\n",
       "      <th>16</th>\n",
       "      <td>CFO/Debt</td>\n",
       "      <td>0.0250</td>\n",
       "      <td>0.6944</td>\n",
       "    </tr>\n",
       "    <tr>\n",
       "      <th>17</th>\n",
       "      <td>CFO</td>\n",
       "      <td>0.0245</td>\n",
       "      <td>0.7189</td>\n",
       "    </tr>\n",
       "    <tr>\n",
       "      <th>18</th>\n",
       "      <td>Interest Coverage</td>\n",
       "      <td>0.0241</td>\n",
       "      <td>0.7430</td>\n",
       "    </tr>\n",
       "    <tr>\n",
       "      <th>19</th>\n",
       "      <td>Total Liquidity</td>\n",
       "      <td>0.0237</td>\n",
       "      <td>0.7667</td>\n",
       "    </tr>\n",
       "    <tr>\n",
       "      <th>20</th>\n",
       "      <td>Current Liquidity</td>\n",
       "      <td>0.0234</td>\n",
       "      <td>0.7902</td>\n",
       "    </tr>\n",
       "    <tr>\n",
       "      <th>21</th>\n",
       "      <td>Current Liabilities</td>\n",
       "      <td>0.0233</td>\n",
       "      <td>0.8135</td>\n",
       "    </tr>\n",
       "    <tr>\n",
       "      <th>22</th>\n",
       "      <td>EPS Before Extras</td>\n",
       "      <td>0.0228</td>\n",
       "      <td>0.8363</td>\n",
       "    </tr>\n",
       "    <tr>\n",
       "      <th>23</th>\n",
       "      <td>PE</td>\n",
       "      <td>0.0217</td>\n",
       "      <td>0.8580</td>\n",
       "    </tr>\n",
       "    <tr>\n",
       "      <th>24</th>\n",
       "      <td>ROA</td>\n",
       "      <td>0.0209</td>\n",
       "      <td>0.8789</td>\n",
       "    </tr>\n",
       "    <tr>\n",
       "      <th>25</th>\n",
       "      <td>ROE</td>\n",
       "      <td>0.0204</td>\n",
       "      <td>0.8993</td>\n",
       "    </tr>\n",
       "    <tr>\n",
       "      <th>26</th>\n",
       "      <td>A1</td>\n",
       "      <td>0.0201</td>\n",
       "      <td>0.9194</td>\n",
       "    </tr>\n",
       "    <tr>\n",
       "      <th>27</th>\n",
       "      <td>A2</td>\n",
       "      <td>0.0195</td>\n",
       "      <td>0.9389</td>\n",
       "    </tr>\n",
       "    <tr>\n",
       "      <th>28</th>\n",
       "      <td>A3</td>\n",
       "      <td>0.0173</td>\n",
       "      <td>0.9562</td>\n",
       "    </tr>\n",
       "    <tr>\n",
       "      <th>29</th>\n",
       "      <td>Aa2</td>\n",
       "      <td>0.0149</td>\n",
       "      <td>0.9712</td>\n",
       "    </tr>\n",
       "    <tr>\n",
       "      <th>30</th>\n",
       "      <td>Aa3</td>\n",
       "      <td>0.0102</td>\n",
       "      <td>0.9814</td>\n",
       "    </tr>\n",
       "    <tr>\n",
       "      <th>31</th>\n",
       "      <td>Aaa</td>\n",
       "      <td>0.0066</td>\n",
       "      <td>0.9879</td>\n",
       "    </tr>\n",
       "    <tr>\n",
       "      <th>32</th>\n",
       "      <td>B1</td>\n",
       "      <td>0.0057</td>\n",
       "      <td>0.9936</td>\n",
       "    </tr>\n",
       "    <tr>\n",
       "      <th>33</th>\n",
       "      <td>B2</td>\n",
       "      <td>0.0038</td>\n",
       "      <td>0.9974</td>\n",
       "    </tr>\n",
       "    <tr>\n",
       "      <th>34</th>\n",
       "      <td>B3</td>\n",
       "      <td>0.0010</td>\n",
       "      <td>0.9984</td>\n",
       "    </tr>\n",
       "    <tr>\n",
       "      <th>35</th>\n",
       "      <td>Ba1</td>\n",
       "      <td>0.0007</td>\n",
       "      <td>0.9991</td>\n",
       "    </tr>\n",
       "    <tr>\n",
       "      <th>36</th>\n",
       "      <td>Ba2</td>\n",
       "      <td>0.0003</td>\n",
       "      <td>0.9995</td>\n",
       "    </tr>\n",
       "    <tr>\n",
       "      <th>37</th>\n",
       "      <td>Ba3</td>\n",
       "      <td>0.0003</td>\n",
       "      <td>0.9997</td>\n",
       "    </tr>\n",
       "    <tr>\n",
       "      <th>38</th>\n",
       "      <td>Baa1</td>\n",
       "      <td>0.0002</td>\n",
       "      <td>0.9999</td>\n",
       "    </tr>\n",
       "    <tr>\n",
       "      <th>39</th>\n",
       "      <td>Baa2</td>\n",
       "      <td>0.0001</td>\n",
       "      <td>1.0000</td>\n",
       "    </tr>\n",
       "    <tr>\n",
       "      <th>40</th>\n",
       "      <td>Baa3</td>\n",
       "      <td>0.0000</td>\n",
       "      <td>1.0000</td>\n",
       "    </tr>\n",
       "    <tr>\n",
       "      <th>41</th>\n",
       "      <td>Caa1</td>\n",
       "      <td>0.0000</td>\n",
       "      <td>1.0000</td>\n",
       "    </tr>\n",
       "  </tbody>\n",
       "</table>\n",
       "</div>"
      ],
      "text/plain": [
       "                    Features  PCA_Exp_Var  Cummulative Exp Var\n",
       "0             Sales/Revenues       0.0936               0.0936\n",
       "1               Gross Margin       0.0737               0.1673\n",
       "2                     EBITDA       0.0707               0.2381\n",
       "3              EBITDA Margin       0.0517               0.2897\n",
       "4   Net Income Before Extras       0.0495               0.3392\n",
       "5                 Total Debt       0.0481               0.3873\n",
       "6                   Net Debt       0.0372               0.4245\n",
       "7                    LT Debt       0.0298               0.4543\n",
       "8                    ST Debt       0.0288               0.4831\n",
       "9                       Cash       0.0282               0.5113\n",
       "10            Free Cash Flow       0.0272               0.5385\n",
       "11         Total Debt/EBITDA       0.0268               0.5653\n",
       "12           Net Debt/EBITDA       0.0265               0.5918\n",
       "13                  Total MV       0.0262               0.6180\n",
       "14             Total Debt/MV       0.0259               0.6440\n",
       "15               Net Debt/MV       0.0254               0.6694\n",
       "16                  CFO/Debt       0.0250               0.6944\n",
       "17                       CFO       0.0245               0.7189\n",
       "18         Interest Coverage       0.0241               0.7430\n",
       "19           Total Liquidity       0.0237               0.7667\n",
       "20         Current Liquidity       0.0234               0.7902\n",
       "21       Current Liabilities       0.0233               0.8135\n",
       "22         EPS Before Extras       0.0228               0.8363\n",
       "23                        PE       0.0217               0.8580\n",
       "24                       ROA       0.0209               0.8789\n",
       "25                       ROE       0.0204               0.8993\n",
       "26                        A1       0.0201               0.9194\n",
       "27                        A2       0.0195               0.9389\n",
       "28                        A3       0.0173               0.9562\n",
       "29                       Aa2       0.0149               0.9712\n",
       "30                       Aa3       0.0102               0.9814\n",
       "31                       Aaa       0.0066               0.9879\n",
       "32                        B1       0.0057               0.9936\n",
       "33                        B2       0.0038               0.9974\n",
       "34                        B3       0.0010               0.9984\n",
       "35                       Ba1       0.0007               0.9991\n",
       "36                       Ba2       0.0003               0.9995\n",
       "37                       Ba3       0.0003               0.9997\n",
       "38                      Baa1       0.0002               0.9999\n",
       "39                      Baa2       0.0001               1.0000\n",
       "40                      Baa3       0.0000               1.0000\n",
       "41                      Caa1       0.0000               1.0000"
      ]
     },
     "execution_count": 9,
     "metadata": {},
     "output_type": "execute_result"
    }
   ],
   "source": [
    "df_pca_exp_var"
   ]
  },
  {
   "cell_type": "code",
   "execution_count": 26,
   "metadata": {},
   "outputs": [
    {
     "data": {
      "text/plain": [
       "<matplotlib.axes._subplots.AxesSubplot at 0x12749578748>"
      ]
     },
     "execution_count": 26,
     "metadata": {},
     "output_type": "execute_result"
    },
    {
     "data": {
      "image/png": "[encoded data removed]",
      "text/plain": [
       "<Figure size 432x288 with 1 Axes>"
      ]
     },
     "metadata": {
      "needs_background": "light"
     },
     "output_type": "display_data"
    }
   ],
   "source": [
    "df_pca_exp_var.plot()"
   ]
  },
  {
   "cell_type": "code",
   "execution_count": null,
   "metadata": {},
   "outputs": [],
   "source": []
  },
  {
   "cell_type": "code",
   "execution_count": null,
   "metadata": {},
   "outputs": [],
   "source": []
  },
  {
   "cell_type": "markdown",
   "metadata": {},
   "source": [
    "###  Logistic Regression\n",
    "1. InvGrd with Duummy Variables"
   ]
  },
  {
   "cell_type": "code",
   "execution_count": 10,
   "metadata": {
    "scrolled": true
   },
   "outputs": [],
   "source": [
    "## Fit the Model\n",
    "logReg_model=LogisticRegression(solver='lbfgs')\n",
    "logReg_model.fit(X_train,y_train)\n",
    "### Predict\n",
    "y_pred_train=logReg_model.predict(X_train)\n",
    "y_pred_test=logReg_model.predict(X_test)"
   ]
  },
  {
   "cell_type": "code",
   "execution_count": 11,
   "metadata": {},
   "outputs": [
    {
     "name": "stdout",
     "output_type": "stream",
     "text": [
      "Accuracy Score of Logistic Regression Model with dummy variables on Train Set 1.0\n",
      "Accuracy Score of Logistic Regression Model with dummy variables on Test Set 1.0\n",
      "ROC_AUC of Logistic Regression Model with dummy variables on Train Set 1.0\n",
      "ROC_AUC  of Logistic Regression Model with dummy variables on Test Set 1.0\n"
     ]
    }
   ],
   "source": [
    "print(\"Accuracy Score of Logistic Regression Model with dummy variables on Train Set\",logReg_model.score(X_train,y_train))\n",
    "print(\"Accuracy Score of Logistic Regression Model with dummy variables on Test Set\",logReg_model.score(X_test,y_test))\n",
    "print(\"ROC_AUC of Logistic Regression Model with dummy variables on Train Set\",roc_auc_score(y_train,y_pred_train))\n",
    "print(\"ROC_AUC  of Logistic Regression Model with dummy variables on Test Set\",roc_auc_score(y_test,y_pred_test))"
   ]
  },
  {
   "cell_type": "markdown",
   "metadata": {},
   "source": [
    "As we noticed creating the dummy variables is boosting the model accuracy. In the following code we are going to remove \"Rating\" dummy variables and run the logistic regression model again and see what happens to the result."
   ]
  },
  {
   "cell_type": "code",
   "execution_count": 12,
   "metadata": {},
   "outputs": [],
   "source": [
    "list_to_drop=['InvGrd', 'Rating', 'A1', 'A2', 'A3', 'Aa2', 'Aa3', 'Aaa',\n",
    "       'B1', 'B2', 'B3', 'Ba1', 'Ba2', 'Ba3', 'Baa1', 'Baa2', 'Baa3', 'Caa1']"
   ]
  },
  {
   "cell_type": "code",
   "execution_count": 13,
   "metadata": {},
   "outputs": [],
   "source": [
    "X=scale(df_credit_dummies.drop(list_to_drop,axis=1).values)\n",
    "y=df_credit_dummies[\"InvGrd\"].values\n",
    "### Train and Test\n",
    "X_train,X_test,y_train,y_test=train_test_split(X,y,test_size=0.25,random_state=seed)"
   ]
  },
  {
   "cell_type": "markdown",
   "metadata": {},
   "source": [
    "### PCA without Dummy Variables"
   ]
  },
  {
   "cell_type": "code",
   "execution_count": 14,
   "metadata": {},
   "outputs": [
    {
     "data": {
      "text/plain": [
       "array([[-0.15189997,  0.0235405 , -0.06845795, ..., -0.00784368,\n",
       "        -0.00442878, -0.00160618],\n",
       "       [-0.14272847,  0.03249937, -0.01855342, ..., -0.00370066,\n",
       "        -0.00426299, -0.00279038],\n",
       "       [-0.13566313,  0.02783463,  0.00923416, ..., -0.00908331,\n",
       "        -0.00279016, -0.00242822],\n",
       "       ...,\n",
       "       [-0.13568104, -0.43058978, -0.44130577, ...,  0.02968121,\n",
       "        -0.00582438,  0.00059085],\n",
       "       [-0.0733207 , -0.4424719 , -0.4753796 , ..., -0.00732613,\n",
       "        -0.00338393, -0.00238864],\n",
       "       [-0.18756961, -0.4270099 , -0.50309818, ..., -0.0221842 ,\n",
       "        -0.00134203, -0.00167871]])"
      ]
     },
     "execution_count": 14,
     "metadata": {},
     "output_type": "execute_result"
    }
   ],
   "source": [
    "# Create PCA instance: model\n",
    "pca_model = PCA()\n",
    "### Fit the Features value to PCA\n",
    "pca_model.fit_transform(X)"
   ]
  },
  {
   "cell_type": "code",
   "execution_count": 15,
   "metadata": {},
   "outputs": [],
   "source": [
    "X_features=list(df_credit_dummies.drop(list_to_drop,axis=1).columns)"
   ]
  },
  {
   "cell_type": "code",
   "execution_count": 16,
   "metadata": {},
   "outputs": [],
   "source": [
    "df_pca_exp_var=pd.DataFrame({\"Features\":X_features,\n",
    "              \"PCA_Exp_Var\":pca_model.explained_variance_ratio_}).sort_values(\"PCA_Exp_Var\",ascending=False)\n",
    "df_pca_exp_var[\"Cummulative Exp Var\"]=df_pca_exp_var[\"PCA_Exp_Var\"].cumsum()"
   ]
  },
  {
   "cell_type": "markdown",
   "metadata": {},
   "source": [
    "##### PCA Report Without Dummy Variables"
   ]
  },
  {
   "cell_type": "code",
   "execution_count": 17,
   "metadata": {
    "scrolled": true
   },
   "outputs": [
    {
     "data": {
      "text/html": [
       "<div>\n",
       "<style scoped>\n",
       "    .dataframe tbody tr th:only-of-type {\n",
       "        vertical-align: middle;\n",
       "    }\n",
       "\n",
       "    .dataframe tbody tr th {\n",
       "        vertical-align: top;\n",
       "    }\n",
       "\n",
       "    .dataframe thead th {\n",
       "        text-align: right;\n",
       "    }\n",
       "</style>\n",
       "<table border=\"1\" class=\"dataframe\">\n",
       "  <thead>\n",
       "    <tr style=\"text-align: right;\">\n",
       "      <th></th>\n",
       "      <th>Features</th>\n",
       "      <th>PCA_Exp_Var</th>\n",
       "      <th>Cummulative Exp Var</th>\n",
       "    </tr>\n",
       "  </thead>\n",
       "  <tbody>\n",
       "    <tr>\n",
       "      <th>0</th>\n",
       "      <td>Sales/Revenues</td>\n",
       "      <td>0.1443</td>\n",
       "      <td>0.1443</td>\n",
       "    </tr>\n",
       "    <tr>\n",
       "      <th>1</th>\n",
       "      <td>Gross Margin</td>\n",
       "      <td>0.1185</td>\n",
       "      <td>0.2628</td>\n",
       "    </tr>\n",
       "    <tr>\n",
       "      <th>2</th>\n",
       "      <td>EBITDA</td>\n",
       "      <td>0.1126</td>\n",
       "      <td>0.3754</td>\n",
       "    </tr>\n",
       "    <tr>\n",
       "      <th>3</th>\n",
       "      <td>EBITDA Margin</td>\n",
       "      <td>0.0819</td>\n",
       "      <td>0.4573</td>\n",
       "    </tr>\n",
       "    <tr>\n",
       "      <th>4</th>\n",
       "      <td>Net Income Before Extras</td>\n",
       "      <td>0.0769</td>\n",
       "      <td>0.5342</td>\n",
       "    </tr>\n",
       "    <tr>\n",
       "      <th>5</th>\n",
       "      <td>Total Debt</td>\n",
       "      <td>0.0755</td>\n",
       "      <td>0.6097</td>\n",
       "    </tr>\n",
       "    <tr>\n",
       "      <th>6</th>\n",
       "      <td>Net Debt</td>\n",
       "      <td>0.0575</td>\n",
       "      <td>0.6672</td>\n",
       "    </tr>\n",
       "    <tr>\n",
       "      <th>7</th>\n",
       "      <td>LT Debt</td>\n",
       "      <td>0.0420</td>\n",
       "      <td>0.7092</td>\n",
       "    </tr>\n",
       "    <tr>\n",
       "      <th>8</th>\n",
       "      <td>ST Debt</td>\n",
       "      <td>0.0390</td>\n",
       "      <td>0.7482</td>\n",
       "    </tr>\n",
       "    <tr>\n",
       "      <th>9</th>\n",
       "      <td>Cash</td>\n",
       "      <td>0.0382</td>\n",
       "      <td>0.7864</td>\n",
       "    </tr>\n",
       "    <tr>\n",
       "      <th>10</th>\n",
       "      <td>Free Cash Flow</td>\n",
       "      <td>0.0377</td>\n",
       "      <td>0.8241</td>\n",
       "    </tr>\n",
       "    <tr>\n",
       "      <th>11</th>\n",
       "      <td>Total Debt/EBITDA</td>\n",
       "      <td>0.0372</td>\n",
       "      <td>0.8613</td>\n",
       "    </tr>\n",
       "    <tr>\n",
       "      <th>12</th>\n",
       "      <td>Net Debt/EBITDA</td>\n",
       "      <td>0.0352</td>\n",
       "      <td>0.8965</td>\n",
       "    </tr>\n",
       "    <tr>\n",
       "      <th>13</th>\n",
       "      <td>Total MV</td>\n",
       "      <td>0.0306</td>\n",
       "      <td>0.9271</td>\n",
       "    </tr>\n",
       "    <tr>\n",
       "      <th>14</th>\n",
       "      <td>Total Debt/MV</td>\n",
       "      <td>0.0245</td>\n",
       "      <td>0.9516</td>\n",
       "    </tr>\n",
       "    <tr>\n",
       "      <th>15</th>\n",
       "      <td>Net Debt/MV</td>\n",
       "      <td>0.0175</td>\n",
       "      <td>0.9691</td>\n",
       "    </tr>\n",
       "    <tr>\n",
       "      <th>16</th>\n",
       "      <td>CFO/Debt</td>\n",
       "      <td>0.0108</td>\n",
       "      <td>0.9799</td>\n",
       "    </tr>\n",
       "    <tr>\n",
       "      <th>17</th>\n",
       "      <td>CFO</td>\n",
       "      <td>0.0095</td>\n",
       "      <td>0.9893</td>\n",
       "    </tr>\n",
       "    <tr>\n",
       "      <th>18</th>\n",
       "      <td>Interest Coverage</td>\n",
       "      <td>0.0062</td>\n",
       "      <td>0.9955</td>\n",
       "    </tr>\n",
       "    <tr>\n",
       "      <th>19</th>\n",
       "      <td>Total Liquidity</td>\n",
       "      <td>0.0018</td>\n",
       "      <td>0.9973</td>\n",
       "    </tr>\n",
       "    <tr>\n",
       "      <th>20</th>\n",
       "      <td>Current Liquidity</td>\n",
       "      <td>0.0012</td>\n",
       "      <td>0.9986</td>\n",
       "    </tr>\n",
       "    <tr>\n",
       "      <th>21</th>\n",
       "      <td>Current Liabilities</td>\n",
       "      <td>0.0006</td>\n",
       "      <td>0.9991</td>\n",
       "    </tr>\n",
       "    <tr>\n",
       "      <th>22</th>\n",
       "      <td>EPS Before Extras</td>\n",
       "      <td>0.0005</td>\n",
       "      <td>0.9996</td>\n",
       "    </tr>\n",
       "    <tr>\n",
       "      <th>23</th>\n",
       "      <td>PE</td>\n",
       "      <td>0.0003</td>\n",
       "      <td>0.9999</td>\n",
       "    </tr>\n",
       "    <tr>\n",
       "      <th>24</th>\n",
       "      <td>ROA</td>\n",
       "      <td>0.0001</td>\n",
       "      <td>1.0000</td>\n",
       "    </tr>\n",
       "    <tr>\n",
       "      <th>25</th>\n",
       "      <td>ROE</td>\n",
       "      <td>0.0000</td>\n",
       "      <td>1.0000</td>\n",
       "    </tr>\n",
       "  </tbody>\n",
       "</table>\n",
       "</div>"
      ],
      "text/plain": [
       "                    Features  PCA_Exp_Var  Cummulative Exp Var\n",
       "0             Sales/Revenues       0.1443               0.1443\n",
       "1               Gross Margin       0.1185               0.2628\n",
       "2                     EBITDA       0.1126               0.3754\n",
       "3              EBITDA Margin       0.0819               0.4573\n",
       "4   Net Income Before Extras       0.0769               0.5342\n",
       "5                 Total Debt       0.0755               0.6097\n",
       "6                   Net Debt       0.0575               0.6672\n",
       "7                    LT Debt       0.0420               0.7092\n",
       "8                    ST Debt       0.0390               0.7482\n",
       "9                       Cash       0.0382               0.7864\n",
       "10            Free Cash Flow       0.0377               0.8241\n",
       "11         Total Debt/EBITDA       0.0372               0.8613\n",
       "12           Net Debt/EBITDA       0.0352               0.8965\n",
       "13                  Total MV       0.0306               0.9271\n",
       "14             Total Debt/MV       0.0245               0.9516\n",
       "15               Net Debt/MV       0.0175               0.9691\n",
       "16                  CFO/Debt       0.0108               0.9799\n",
       "17                       CFO       0.0095               0.9893\n",
       "18         Interest Coverage       0.0062               0.9955\n",
       "19           Total Liquidity       0.0018               0.9973\n",
       "20         Current Liquidity       0.0012               0.9986\n",
       "21       Current Liabilities       0.0006               0.9991\n",
       "22         EPS Before Extras       0.0005               0.9996\n",
       "23                        PE       0.0003               0.9999\n",
       "24                       ROA       0.0001               1.0000\n",
       "25                       ROE       0.0000               1.0000"
      ]
     },
     "execution_count": 17,
     "metadata": {},
     "output_type": "execute_result"
    }
   ],
   "source": [
    "df_pca_exp_var"
   ]
  },
  {
   "cell_type": "markdown",
   "metadata": {},
   "source": [
    "### Logistic Regression without Dummy Variables"
   ]
  },
  {
   "cell_type": "code",
   "execution_count": 18,
   "metadata": {},
   "outputs": [],
   "source": [
    "## Fit the Model\n",
    "logReg_model=LogisticRegression(solver='lbfgs')\n",
    "logReg_model.fit(X_train,y_train)\n",
    "### Predict\n",
    "y_pred_train=logReg_model.predict(X_train)\n",
    "y_pred_test=logReg_model.predict(X_test)"
   ]
  },
  {
   "cell_type": "code",
   "execution_count": 19,
   "metadata": {},
   "outputs": [
    {
     "name": "stdout",
     "output_type": "stream",
     "text": [
      "Accuracy Score of Logistic Regression Model WITHOUT dummy variables on Train Set 0.7717647058823529\n",
      "Accuracy Score of Logistic Regression Model WITHOUT dummy variables on Test Set 0.7529411764705882\n",
      "ROC_AUC of Logistic Regression Model WITHOUT dummy variables on Train Set 0.5353135034645935\n",
      "ROC_AUC  of Logistic Regression Model WITHOUT dummy variables on Test Set 0.5291506017058067\n"
     ]
    }
   ],
   "source": [
    "print(\"Accuracy Score of Logistic Regression Model WITHOUT dummy variables on Train Set\",logReg_model.score(X_train,y_train))\n",
    "print(\"Accuracy Score of Logistic Regression Model WITHOUT dummy variables on Test Set\",logReg_model.score(X_test,y_test))\n",
    "print(\"ROC_AUC of Logistic Regression Model WITHOUT dummy variables on Train Set\",roc_auc_score(y_train,y_pred_train))\n",
    "print(\"ROC_AUC  of Logistic Regression Model WITHOUT dummy variables on Test Set\",roc_auc_score(y_test,y_pred_test))"
   ]
  },
  {
   "cell_type": "markdown",
   "metadata": {},
   "source": [
    "### Classification Report on Test Set "
   ]
  },
  {
   "cell_type": "code",
   "execution_count": 20,
   "metadata": {},
   "outputs": [
    {
     "name": "stdout",
     "output_type": "stream",
     "text": [
      "              precision    recall  f1-score   support\n",
      "\n",
      "           0       0.62      0.07      0.13       108\n",
      "           1       0.76      0.98      0.86       317\n",
      "\n",
      "    accuracy                           0.75       425\n",
      "   macro avg       0.69      0.53      0.49       425\n",
      "weighted avg       0.72      0.75      0.67       425\n",
      "\n"
     ]
    }
   ],
   "source": [
    "print(classification_report(y_test,y_pred_test))"
   ]
  },
  {
   "cell_type": "code",
   "execution_count": 21,
   "metadata": {},
   "outputs": [],
   "source": [
    "import pandas as pd\n",
    "y_actu = pd.Series(y_test, name='Actual')\n",
    "y_pred = pd.Series(y_pred_test, name='Predicted')\n",
    "df_confusion = pd.crosstab(y_actu, y_pred)"
   ]
  },
  {
   "cell_type": "code",
   "execution_count": 22,
   "metadata": {},
   "outputs": [
    {
     "data": {
      "text/html": [
       "<div>\n",
       "<style scoped>\n",
       "    .dataframe tbody tr th:only-of-type {\n",
       "        vertical-align: middle;\n",
       "    }\n",
       "\n",
       "    .dataframe tbody tr th {\n",
       "        vertical-align: top;\n",
       "    }\n",
       "\n",
       "    .dataframe thead th {\n",
       "        text-align: right;\n",
       "    }\n",
       "</style>\n",
       "<table border=\"1\" class=\"dataframe\">\n",
       "  <thead>\n",
       "    <tr style=\"text-align: right;\">\n",
       "      <th>Predicted</th>\n",
       "      <th>0</th>\n",
       "      <th>1</th>\n",
       "    </tr>\n",
       "    <tr>\n",
       "      <th>Actual</th>\n",
       "      <th></th>\n",
       "      <th></th>\n",
       "    </tr>\n",
       "  </thead>\n",
       "  <tbody>\n",
       "    <tr>\n",
       "      <th>0</th>\n",
       "      <td>8</td>\n",
       "      <td>100</td>\n",
       "    </tr>\n",
       "    <tr>\n",
       "      <th>1</th>\n",
       "      <td>5</td>\n",
       "      <td>312</td>\n",
       "    </tr>\n",
       "  </tbody>\n",
       "</table>\n",
       "</div>"
      ],
      "text/plain": [
       "Predicted  0    1\n",
       "Actual           \n",
       "0          8  100\n",
       "1          5  312"
      ]
     },
     "execution_count": 22,
     "metadata": {},
     "output_type": "execute_result"
    }
   ],
   "source": [
    "df_confusion"
   ]
  },
  {
   "cell_type": "code",
   "execution_count": 23,
   "metadata": {},
   "outputs": [
    {
     "data": {
      "image/png": "[encoded data removed]",
      "text/plain": [
       "<Figure size 288x288 with 2 Axes>"
      ]
     },
     "metadata": {
      "needs_background": "light"
     },
     "output_type": "display_data"
    }
   ],
   "source": [
    "import matplotlib.pyplot as plt\n",
    "def plot_confusion_matrix(df_confusion, title='Confusion matrix', cmap=plt.cm.gray_r):\n",
    "    plt.matshow(df_confusion, cmap=cmap) # imshow\n",
    "    #plt.title(title)\n",
    "    plt.colorbar()\n",
    "    tick_marks = np.arange(len(df_confusion.columns))\n",
    "    plt.xticks(tick_marks, df_confusion.columns, rotation=45)\n",
    "    plt.yticks(tick_marks, df_confusion.index)\n",
    "    #plt.tight_layout()\n",
    "    plt.ylabel(df_confusion.index.name)\n",
    "    plt.xlabel(df_confusion.columns.name)\n",
    "\n",
    "plot_confusion_matrix(df_confusion)"
   ]
  },
  {
   "cell_type": "markdown",
   "metadata": {},
   "source": [
    "###  Random Forest with Cross Validation"
   ]
  },
  {
   "cell_type": "code",
   "execution_count": null,
   "metadata": {},
   "outputs": [],
   "source": []
  },
  {
   "cell_type": "code",
   "execution_count": null,
   "metadata": {},
   "outputs": [],
   "source": []
  },
  {
   "cell_type": "code",
   "execution_count": null,
   "metadata": {},
   "outputs": [],
   "source": []
  },
  {
   "cell_type": "code",
   "execution_count": null,
   "metadata": {},
   "outputs": [],
   "source": []
  },
  {
   "cell_type": "code",
   "execution_count": null,
   "metadata": {},
   "outputs": [],
   "source": []
  },
  {
   "cell_type": "code",
   "execution_count": null,
   "metadata": {},
   "outputs": [],
   "source": []
  },
  {
   "cell_type": "code",
   "execution_count": null,
   "metadata": {},
   "outputs": [],
   "source": []
  },
  {
   "cell_type": "code",
   "execution_count": null,
   "metadata": {},
   "outputs": [],
   "source": []
  }
 ],
 "metadata": {
  "kernelspec": {
   "display_name": "Python 3",
   "language": "python",
   "name": "python3"
  },
  "language_info": {
   "codemirror_mode": {
    "name": "ipython",
    "version": 3
   },
   "file_extension": ".py",
   "mimetype": "text/x-python",
   "name": "python",
   "nbconvert_exporter": "python",
   "pygments_lexer": "ipython3",
   "version": "3.7.3"
  }
 },
 "nbformat": 4,
 "nbformat_minor": 2
}
